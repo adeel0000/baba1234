{
 "cells": [
  {
   "cell_type": "code",
   "execution_count": 1,
   "metadata": {},
   "outputs": [
    {
     "name": "stdout",
     "output_type": "stream",
     "text": [
      "Enter first number: 4\n",
      "Enter operator: ^\n",
      "Enter second number: 6\n",
      "Equal to 4096\n"
     ]
    }
   ],
   "source": [
    "input1=int(input(\"Enter first number: \"))\n",
    "operator=input(\"Enter operator: \")\n",
    "input2=int(input(\"Enter second number: \"))\n",
    "if operator == \"/\":\n",
    "    print(\"Equal to\",input1/input2)\n",
    "elif operator == \"*\":\n",
    "    print(\"Equal to\",input1*input2)\n",
    "elif operator == \"+\":\n",
    "    print(\"Equal to\",input1+input2)\n",
    "elif operator == \"-\":\n",
    "    print(\"Equal to\",input1-input2)\n",
    "elif operator == \"^\":\n",
    "    print(\"Equal to\",input1**input2)\n",
    "else:\n",
    "    print(\"Invalid input\")\n",
    "    \n",
    "\n",
    "\n",
    "\n",
    "    "
   ]
  },
  {
   "cell_type": "code",
   "execution_count": 1,
   "metadata": {},
   "outputs": [
    {
     "name": "stdout",
     "output_type": "stream",
     "text": [
      "There is a numeric value in the list is 65\n",
      "There is a numeric value in the list is 53\n",
      "There is a numeric value in the list is 85\n",
      "There is a numeric value in the list is 72\n"
     ]
    }
   ],
   "source": [
    "a = [65, \"Geo\", 53, \"avengers\", 85, \"batman\", 72 , \"djanho unchained\"]\n",
    "for i in a:\n",
    "    if type(i) == type(int()):\n",
    "        print(\"There is a numeric value in the list is\", i)"
   ]
  },
  {
   "cell_type": "code",
   "execution_count": 3,
   "metadata": {
    "scrolled": true
   },
   "outputs": [
    {
     "name": "stdout",
     "output_type": "stream",
     "text": [
      "Enter key: D\n",
      "Enter value: Hello\n",
      "{'A': 45, 'B': 89, 99: 'C', 'D': 'Hello'}\n"
     ]
    }
   ],
   "source": [
    "dictionary ={\"A\":45, \"B\":89, 99:\"C\" }\n",
    "k = input(\"Enter key: \")\n",
    "v = input(\"Enter value: \")\n",
    "dictionary[k] =v\n",
    "print(dictionary)"
   ]
  },
  {
   "cell_type": "code",
   "execution_count": 4,
   "metadata": {},
   "outputs": [
    {
     "name": "stdout",
     "output_type": "stream",
     "text": [
      "{'A': 45, 'B': 89, 99: 'C', 'D': 'Hello'}\n"
     ]
    }
   ],
   "source": [
    "print(dictionary)\n"
   ]
  },
  {
   "cell_type": "code",
   "execution_count": 21,
   "metadata": {},
   "outputs": [
    {
     "name": "stdout",
     "output_type": "stream",
     "text": [
      "15\n"
     ]
    }
   ],
   "source": [
    "number = []\n",
    "extract = {1:\"A\", 2:\"B\", \"C\":5, \"D\":7}\n",
    "for i,j in extract.items():\n",
    "    if type(i) == type(int()):\n",
    "        number.append(i)\n",
    "    if type(j) == type(int()):\n",
    "        number.append(j)\n",
    "\n",
    "print(sum(number))"
   ]
  },
  {
   "cell_type": "code",
   "execution_count": 25,
   "metadata": {
    "scrolled": true
   },
   "outputs": [
    {
     "name": "stdout",
     "output_type": "stream",
     "text": [
      "[1, 2, 3, 'hello', 8]\n"
     ]
    }
   ],
   "source": [
    "#Extra work\n",
    "\n",
    "ab = [1,2,3,1,2,3,4,\"hello\",4,8,8]\n",
    "ac = []\n",
    "for i in ab:\n",
    "    ab.remove(i)\n",
    "    if ab== i:\n",
    "        ac.append(i)\n",
    "        \n",
    "        print(i)\n",
    "        \n",
    "print(ab)"
   ]
  },
  {
   "cell_type": "code",
   "execution_count": 29,
   "metadata": {},
   "outputs": [
    {
     "name": "stdout",
     "output_type": "stream",
     "text": [
      "Duplicate value: 1\n",
      "Duplicate value: 3\n",
      "Duplicate value: 2\n",
      "Duplicate value: 4\n",
      "Duplicate value: 8\n"
     ]
    }
   ],
   "source": [
    "ab = [1,2,3,1,2,3,4,\"hello\",4,8,8]\n",
    "for i in ab:\n",
    "    ab.remove(i)\n",
    "    for j in ab:\n",
    "        if i == j:\n",
    "            print(\"Duplicate value:\",j)\n",
    "       "
   ]
  },
  {
   "cell_type": "code",
   "execution_count": 41,
   "metadata": {},
   "outputs": [
    {
     "name": "stdout",
     "output_type": "stream",
     "text": [
      "A\n",
      "B\n",
      "99\n",
      "[67, 89, 56]\n"
     ]
    }
   ],
   "source": [
    "#Extra work\n",
    "\n",
    "dictionary ={\"A\":45, \"B\":89, 99:\"C\",\"A\":67, 99:56 }\n",
    "ad = []\n",
    "for i in dictionary.keys():\n",
    "    ad.append(dictionary[i])\n",
    "    print(i)\n",
    "\n",
    "print(ad)"
   ]
  },
  {
   "cell_type": "code",
   "execution_count": 68,
   "metadata": {},
   "outputs": [
    {
     "name": "stdout",
     "output_type": "stream",
     "text": [
      "A\n",
      "99\n"
     ]
    }
   ],
   "source": [
    "#Extra work\n",
    "\n",
    "dictionary ={\"A\":45, \"B\":89, 99:\"C\",\"A\":67, 99:56, \"B\":78,\"g\":55}\n",
    "ad = []\n",
    "#ad = dictionary.keys()\n",
    "for i in dictionary.keys():\n",
    "    ad.append(i)\n",
    "    #print(i)\n",
    "    \n",
    "for j in ad:\n",
    "    ad.remove(j)\n",
    "    if j in dictionary:\n",
    "        print(j)\n",
    "    \n",
    "    \n",
    "\n",
    "#print(ad)"
   ]
  },
  {
   "cell_type": "code",
   "execution_count": 77,
   "metadata": {},
   "outputs": [
    {
     "name": "stdout",
     "output_type": "stream",
     "text": [
      "K\n",
      "Already exist\n"
     ]
    }
   ],
   "source": [
    "\n",
    "dictionary ={\"A\":45, \"B\":89, \"C\":99,\"A\":67, \"K\":56, \"B\":78,\"g\":55}\n",
    "\n",
    "given = input()\n",
    "\n",
    "if given in dictionary:\n",
    "    print(\"Already exist\")\n",
    "else:\n",
    "    (\"Doesn't exist\")\n",
    "    "
   ]
  },
  {
   "cell_type": "code",
   "execution_count": null,
   "metadata": {},
   "outputs": [],
   "source": []
  },
  {
   "cell_type": "code",
   "execution_count": null,
   "metadata": {},
   "outputs": [],
   "source": []
  },
  {
   "cell_type": "code",
   "execution_count": null,
   "metadata": {},
   "outputs": [],
   "source": []
  }
 ],
 "metadata": {
  "kernelspec": {
   "display_name": "Python 3",
   "language": "python",
   "name": "python3"
  },
  "language_info": {
   "codemirror_mode": {
    "name": "ipython",
    "version": 3
   },
   "file_extension": ".py",
   "mimetype": "text/x-python",
   "name": "python",
   "nbconvert_exporter": "python",
   "pygments_lexer": "ipython3",
   "version": "3.7.2"
  }
 },
 "nbformat": 4,
 "nbformat_minor": 2
}
